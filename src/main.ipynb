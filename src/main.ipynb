{
 "cells": [
  {
   "cell_type": "markdown",
   "metadata": {
    "collapsed": false
   },
   "source": [
    "模型融合是一个有效的提升精度的手段，尤其在单模型精度有限的情况下，让两个模型同时判断一幅图片可信度更高"
   ]
  },
  {
   "cell_type": "code",
   "execution_count": null,
   "metadata": {
    "collapsed": false
   },
   "outputs": [
    {
     "name": "stdout",
     "output_type": "stream",
     "text": [
      "env: CUDA_VISIBLE_DEVICES=0\n",
      "env: PYTHONPATH='/home/aistudio/PaddleSeg'\n",
      "/home/aistudio\n"
     ]
    }
   ],
   "source": [
    "# 设置环境变量只使用第1块GPU并切换工作目录\n",
    "# 注意！此操作会更改程序的工作目录！\n",
    "%set_env CUDA_VISIBLE_DEVICES=0\n",
    "%set_env PYTHONPATH='/home/aistudio/PaddleSeg'\n",
    "%cd /home/aistudio"
   ]
  },
  {
   "cell_type": "code",
   "execution_count": null,
   "metadata": {
    "collapsed": false
   },
   "outputs": [],
   "source": [
    "# 安装依赖包\n",
    "!pip install paddleseg"
   ]
  },
  {
   "cell_type": "code",
   "execution_count": null,
   "metadata": {
    "collapsed": false
   },
   "outputs": [],
   "source": [
    "#解压测试集\r\n",
    "!unzip -oq /home/aistudio/data/data77176/infer.zip -d /home/aistudio/data"
   ]
  },
  {
   "cell_type": "markdown",
   "metadata": {
    "collapsed": false
   },
   "source": [
    "# PREDICT - Need More Time"
   ]
  },
  {
   "cell_type": "code",
   "execution_count": 6,
   "metadata": {
    "collapsed": false
   },
   "outputs": [],
   "source": [
    "#两个模型,权重分别为0.5 0.5\n",
    "#第二个模型为我们提供的，如果你想要使用自己的模型，请注意每个模型的配置文件要对应\n",
    "#直接使用——把第一个模型替换成自己的\n",
    "!python PaddleSeg/predict.py \\\n",
    "    --config_1 PaddleSeg/configs/ocrnet/ocrnet_hrnetw18_cityscapes_1024x512_160k.yml --model_path_1 work/data78054/model.pdparams \\\n",
    "    --config_2 PaddleSeg/configs/ocrnet/ocrnet_hrnetw48_cityscapes_1024x512_160k.yml  --model_path_2 data/data78048/hr48_3572_37525.pdparams \\\n",
    "    --image_path data/infer \\\n",
    "    --save_dir output/result \\\n",
    "    --aug_pred \\\n",
    "    --flip_horizontal \\\n",
    "    --flip_vertical"
   ]
  },
  {
   "cell_type": "code",
   "execution_count": null,
   "metadata": {
    "collapsed": false
   },
   "outputs": [],
   "source": [
    "%cd output/result/pseudo_color_prediction\n",
    "!zip -r -o /home/aistudio/predict.zip ./\n",
    "%cd -"
   ]
  },
  {
   "cell_type": "markdown",
   "metadata": {
    "collapsed": false
   },
   "source": [
    "请点击[此处](https://ai.baidu.com/docs#/AIStudio_Project_Notebook/a38e5576)查看本环境基本用法.  <br>\n",
    "Please click [here ](https://ai.baidu.com/docs#/AIStudio_Project_Notebook/a38e5576) for more detailed instructions. "
   ]
  }
 ],
 "metadata": {
  "kernelspec": {
   "display_name": "PaddlePaddle 2.0.0b0 (Python 3.5)",
   "language": "python",
   "name": "py35-paddle1.2.0"
  },
  "language_info": {
   "codemirror_mode": {
    "name": "ipython",
    "version": 3
   },
   "file_extension": ".py",
   "mimetype": "text/x-python",
   "name": "python",
   "nbconvert_exporter": "python",
   "pygments_lexer": "ipython3",
   "version": "3.7.4"
  }
 },
 "nbformat": 4,
 "nbformat_minor": 1
}
